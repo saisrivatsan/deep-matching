{
 "cells": [
  {
   "cell_type": "markdown",
   "metadata": {},
   "source": [
    "### Required Packages: \n",
    "Numpy, Numba and Pytorch\n",
    "\n",
    "### Running this Notebook\n",
    "Set the hyperparameters in cell [2]"
   ]
  },
  {
   "cell_type": "code",
   "execution_count": 1,
   "metadata": {},
   "outputs": [],
   "source": [
    "import os\n",
    "import sys\n",
    "import time\n",
    "import logging\n",
    "import argparse\n",
    "import numpy as np\n",
    "\n",
    "import torch\n",
    "from torch import nn, optim\n",
    "import torch.nn.functional as F\n",
    "\n",
    "from data import Data\n",
    "from net import Net\n",
    "\n",
    "import baselines\n",
    "\n",
    "import matplotlib\n",
    "import matplotlib.pyplot as plt\n",
    "matplotlib.rcParams.update({'font.size': 16})"
   ]
  },
  {
   "cell_type": "markdown",
   "metadata": {},
   "source": [
    "### Set the hyperparamters here. \n",
    "The models for prob = 0.2, corr = 0.25 and $\\lambda = [0,1,2,...,10]$ are already provided. If you are running this plot for a new setting, make sure models corresponding to $\\lambda, prob, corr$ are already trained.   \n",
    "\n",
    "We plot the results for a small sample here (20 x 256 = 5120 samples). \n",
    "\n",
    "In the paper, we report results on a much higher number of sample (200 x 1024 = 204800)"
   ]
  },
  {
   "cell_type": "code",
   "execution_count": 2,
   "metadata": {},
   "outputs": [],
   "source": [
    "class HParams:\n",
    "    def __init__(self):\n",
    "        self.num_agents = 4\n",
    "        self.batch_size = 1024\n",
    "        self.num_hidden_layers = 4\n",
    "        self.num_hidden_nodes = 256\n",
    "        self.num_val_batches = 10\n",
    "        \n",
    "        # Higher probability => More truncation\n",
    "        self.prob = 0.2\n",
    "        # Higher lambd => More stability\n",
    "        self.lambd = -1\n",
    "        # Correlation of rankings\n",
    "        self.corr = 0.25\n",
    "        # Run seed\n",
    "        self.seed = 0\n",
    "        \n",
    "        \n",
    "# Initialize config\n",
    "cfg = HParams()\n",
    "device = \"cuda:0\"\n",
    "np.random.seed(cfg.seed)\n",
    "\n",
    "# Set the points to plot.\n",
    "lambdas = np.linspace(0, 1, 11)"
   ]
  },
  {
   "cell_type": "code",
   "execution_count": 3,
   "metadata": {},
   "outputs": [],
   "source": [
    "def torch_var(x): return torch.Tensor(x).to(device)\n",
    "\n",
    "# Loss functions\n",
    "def compute_st(r, p, q):        \n",
    "    wp = F.relu(p[:, :, None, :] - p[:, :, :, None])\n",
    "    wq = F.relu(q[:, :, None, :] - q[:, None, :, :], 0)  \n",
    "    t = (1 - torch.sum(r, dim = 1, keepdim = True))\n",
    "    s = (1 - torch.sum(r, dim = 2, keepdim = True))\n",
    "    rgt_1 = torch.einsum('bjc,bijc->bic', r, wq) + t * F.relu(q)\n",
    "    rgt_2 = torch.einsum('bia,biac->bic', r, wp) + s * F.relu(p)\n",
    "    regret =  rgt_1 * rgt_2 \n",
    "    return regret.sum(-1).sum(-1).mean()/cfg.num_agents\n",
    "\n",
    "def compute_ir(r, p, q):\n",
    "    ir_1 = r * F.relu(-q)\n",
    "    ir_2 = r * F.relu(-p)\n",
    "    ir = ir_1 + ir_2\n",
    "    return ir.sum(-1).sum(-1).mean()/cfg.num_agents\n",
    "\n",
    "\n",
    "def compute_ic(r, p, q, P, Q):\n",
    "            \n",
    "    IC_viol_P = torch.zeros(cfg.num_agents).to(device)\n",
    "    IC_viol_Q = torch.zeros(cfg.num_agents).to(device)\n",
    "\n",
    "    utility_true_P = (r * p).sum(-1)\n",
    "    utility_true_Q = (r * q).sum(-2)\n",
    "\n",
    "    for agent_idx in range(cfg.num_agents):\n",
    "\n",
    "\n",
    "        P_mis, Q_mis = G.generate_all_misreports(P, Q, agent_idx = agent_idx, is_P = True, include_truncation = True)\n",
    "        p_mis, q_mis = torch_var(P_mis), torch_var(Q_mis)\n",
    "        r_mis = model(p_mis.view(-1, cfg.num_agents, cfg.num_agents), q_mis.view(-1, cfg.num_agents, cfg.num_agents))\n",
    "        r_mis = r_mis.view(*P_mis.shape)\n",
    "\n",
    "        utility_mis = (r_mis[:, :, agent_idx, :] * p[:, agent_idx, :].unsqueeze(1)).sum(-1).max(-1)[0]\n",
    "        IC_viol_P[agent_idx] += F.relu(utility_mis - utility_true_P[:, agent_idx]).mean()\n",
    "\n",
    "        P_mis, Q_mis = G.generate_all_misreports(P, Q, agent_idx = agent_idx, is_P = False, include_truncation = True)\n",
    "        p_mis, q_mis = torch_var(P_mis), torch_var(Q_mis)\n",
    "        r_mis = model(p_mis.view(-1, cfg.num_agents, cfg.num_agents), q_mis.view(-1, cfg.num_agents, cfg.num_agents))\n",
    "        r_mis = r_mis.view(*P_mis.shape)\n",
    "\n",
    "        utility_mis = (r_mis[:, :, :, agent_idx] * q[:, :, agent_idx].unsqueeze(1)).sum(-1).max(-1)[0]\n",
    "        IC_viol_Q[agent_idx] +=  F.relu(utility_mis - utility_true_Q[:, agent_idx]).mean()\n",
    "\n",
    "    IC_viol = (IC_viol_P.mean() + IC_viol_Q.mean())*0.5\n",
    "    return IC_viol\n",
    "\n",
    "def compute_ic_FOSD(r, p, q, P, Q, r_mult = 1):\n",
    "            \n",
    "    IC_viol_P = torch.zeros(cfg.num_agents).to(device)\n",
    "    IC_viol_Q = torch.zeros(cfg.num_agents).to(device)\n",
    "    \n",
    "    discount = torch_var((r_mult) ** np.arange(cfg.num_agents))\n",
    "\n",
    "    for agent_idx in range(cfg.num_agents):\n",
    "\n",
    "        P_mis, Q_mis = G.generate_all_misreports(P, Q, agent_idx = agent_idx, is_P = True, include_truncation = True)\n",
    "        p_mis, q_mis = torch_var(P_mis), torch_var(Q_mis)\n",
    "        r_mis = model(p_mis.view(-1, cfg.num_agents, cfg.num_agents), q_mis.view(-1, cfg.num_agents, cfg.num_agents))\n",
    "        r_mis = r_mis.view(*P_mis.shape)\n",
    "\n",
    "        r_diff = (r_mis[:, :, agent_idx, :] - r[:, None, agent_idx, :])*(p[:, None, agent_idx, :] > 0).float()\n",
    "        _, idx = torch.sort(-p[:, agent_idx, :])\n",
    "        idx = idx[:, None, :].repeat(1, r_mis.size(1), 1)\n",
    "        \n",
    "        fosd_viol = torch.cumsum(torch.gather(r_diff, -1, idx) * discount, -1)\n",
    "        IC_viol_P[agent_idx] = F.relu(fosd_viol).max(-1)[0].max(-1)[0].mean(-1)\n",
    "\n",
    "        P_mis, Q_mis = G.generate_all_misreports(P, Q, agent_idx = agent_idx, is_P = False, include_truncation = True)\n",
    "        p_mis, q_mis = torch_var(P_mis), torch_var(Q_mis)\n",
    "        r_mis = model(p_mis.view(-1, cfg.num_agents, cfg.num_agents), q_mis.view(-1, cfg.num_agents, cfg.num_agents))\n",
    "        r_mis = r_mis.view(*Q_mis.shape)\n",
    "        \n",
    "        r_diff = (r_mis[:, :, :, agent_idx] - r[:, None, :, agent_idx])*(q[:, None, :, agent_idx] > 0).float()\n",
    "        _, idx = torch.sort(-q[:, :, agent_idx])\n",
    "        idx = idx[:, None, :].repeat(1, r_mis.size(1), 1)\n",
    "        \n",
    "        fosd_viol = torch.cumsum(torch.gather(r_diff, -1, idx) * discount, -1)\n",
    "        IC_viol_Q[agent_idx] = F.relu(fosd_viol).max(-1)[0].max(-1)[0].mean(-1)\n",
    "\n",
    "    IC_viol = (IC_viol_P.mean() + IC_viol_Q.mean())*0.5\n",
    "    return IC_viol"
   ]
  },
  {
   "cell_type": "code",
   "execution_count": 4,
   "metadata": {},
   "outputs": [],
   "source": [
    "# Loss functions numpy\n",
    "def STABILITY_VIOLATION_BATCH(P, Q, R):\n",
    "    WP = np.maximum(P[:, :, np.newaxis, :] - P[:, :, :, np.newaxis], 0)\n",
    "    WQ = np.maximum(Q[:, :, np.newaxis, :] - Q[:, np.newaxis, :, :], 0)   \n",
    "       \n",
    "    T = (1 - np.sum(R, axis = 1, keepdims = True))\n",
    "    S = (1 - np.sum(R, axis = 2, keepdims = True))\n",
    "    \n",
    "    RGT_1 = np.einsum('bjc,bijc->bic', R, WQ) + T * np.maximum(Q, 0)\n",
    "    RGT_2 = np.einsum('bia,biac->bic', R, WP) + S * np.maximum(P, 0)\n",
    "    \n",
    "    REGRET =  RGT_1 * RGT_2 \n",
    "    \n",
    "    return REGRET.sum(-1).sum(-1).mean()/cfg.num_agents\n",
    "\n",
    "def IR_VIOLATION_BATCH(P, Q, R):\n",
    "    IR_1 = R * np.maximum(-Q, 0)\n",
    "    IR_2 = R * np.maximum(-P, 0)\n",
    "    IR = IR_1 + IR_2\n",
    "    return IR.sum(-1).sum(-1).mean()/cfg.num_agents\n",
    "\n",
    "def IC_FOSD_VIOLATION_BATCH(P, Q, R, mechanism, r_mult = 1.0):\n",
    "    \n",
    "    IC_viol_P = np.zeros(cfg.num_agents)\n",
    "    IC_viol_Q = np.zeros(cfg.num_agents)\n",
    "    \n",
    "    discount = r_mult ** np.arange(cfg.num_agents)\n",
    "\n",
    "    for agent_idx in range(cfg.num_agents):\n",
    "        P_mis, Q_mis = G.generate_all_misreports(P, Q, agent_idx = agent_idx, is_P = True, include_truncation = True)\n",
    "        R_mis = mechanism(P_mis.reshape(-1, cfg.num_agents, cfg.num_agents),\n",
    "                                 Q_mis.reshape(-1, cfg.num_agents, cfg.num_agents))\n",
    "        R_mis = R_mis.reshape(cfg.batch_size, -1, cfg.num_agents, cfg.num_agents)\n",
    "\n",
    "        \n",
    "        R_diff = (R_mis[:, :, agent_idx, :] - R[:, None, agent_idx, :])*(P[:, None, agent_idx, :] > 0)\n",
    "        IDX = np.argsort(-P[:, agent_idx, :])\n",
    "        IDX = np.tile(IDX[:, None, :], (1, R_mis.shape[1], 1))\n",
    "        \n",
    "        FOSD_viol = np.cumsum(np.take_along_axis(R_diff, IDX, axis=-1) * discount, -1)\n",
    "        IC_viol_P[agent_idx] = np.maximum(FOSD_viol, 0).max(-1).max(-1).mean(-1)\n",
    "        \n",
    "        P_mis, Q_mis = G.generate_all_misreports(P, Q, agent_idx = agent_idx, is_P = False, include_truncation = True)\n",
    "        R_mis = mechanism(P_mis.reshape(-1, cfg.num_agents, cfg.num_agents),\n",
    "                                 Q_mis.reshape(-1, cfg.num_agents, cfg.num_agents))\n",
    "        R_mis = R_mis.reshape(cfg.batch_size, -1, cfg.num_agents, cfg.num_agents)\n",
    "\n",
    "        R_diff = (R_mis[:, :, :, agent_idx] - R[:, None, :, agent_idx])*(Q[:, None, :, agent_idx] > 0)\n",
    "        IDX = np.argsort(-Q[:, :, agent_idx])\n",
    "        IDX = np.tile(IDX[:, None, :], (1, R_mis.shape[1], 1))\n",
    "        \n",
    "        FOSD_viol = np.cumsum(np.take_along_axis(R_diff, IDX, axis=-1)*discount, -1)\n",
    "        IC_viol_Q[agent_idx] = np.maximum(FOSD_viol, 0).max(-1).max(-1).mean(-1)\n",
    "        \n",
    "    IC_viol = (IC_viol_P.mean() + IC_viol_Q.mean())*0.5\n",
    "    return IC_viol"
   ]
  },
  {
   "cell_type": "code",
   "execution_count": 5,
   "metadata": {},
   "outputs": [
    {
     "data": {
      "text/plain": [
       "Net(\n",
       "  (input_block): Sequential(\n",
       "    (0): Linear(in_features=32, out_features=256, bias=True)\n",
       "    (1): LeakyReLU(negative_slope=0.01)\n",
       "    (2): Linear(in_features=256, out_features=256, bias=True)\n",
       "    (3): LeakyReLU(negative_slope=0.01)\n",
       "    (4): Linear(in_features=256, out_features=256, bias=True)\n",
       "    (5): LeakyReLU(negative_slope=0.01)\n",
       "    (6): Linear(in_features=256, out_features=256, bias=True)\n",
       "    (7): LeakyReLU(negative_slope=0.01)\n",
       "    (8): Linear(in_features=256, out_features=256, bias=True)\n",
       "    (9): LeakyReLU(negative_slope=0.01)\n",
       "  )\n",
       "  (layer_out_r): Linear(in_features=256, out_features=20, bias=True)\n",
       "  (layer_out_c): Linear(in_features=256, out_features=20, bias=True)\n",
       ")"
      ]
     },
     "execution_count": 5,
     "metadata": {},
     "output_type": "execute_result"
    }
   ],
   "source": [
    "# Data\n",
    "G = Data(cfg)\n",
    "\n",
    "# Neural Network\n",
    "model = Net(cfg)\n",
    "model.to(device)"
   ]
  },
  {
   "cell_type": "markdown",
   "metadata": {},
   "source": [
    "#### Compute the Stability and IC violations of neural network mechanism trained using different values of $\\lambda$"
   ]
  },
  {
   "cell_type": "code",
   "execution_count": 6,
   "metadata": {},
   "outputs": [
    {
     "name": "stdout",
     "output_type": "stream",
     "text": [
      "Lam:  0.0\n",
      "\t[ST-Loss]: 1.126274, [IC-Loss]: 0.000000\n",
      "Lam:  0.1\n",
      "\t[ST-Loss]: 0.102921, [IC-Loss]: 0.000000\n",
      "Lam:  0.2\n",
      "\t[ST-Loss]: 0.102916, [IC-Loss]: 0.000000\n",
      "Lam:  0.30000000000000004\n",
      "\t[ST-Loss]: 0.051250, [IC-Loss]: 0.004190\n",
      "Lam:  0.4\n",
      "\t[ST-Loss]: 0.034127, [IC-Loss]: 0.010403\n",
      "Lam:  0.5\n",
      "\t[ST-Loss]: 0.014721, [IC-Loss]: 0.017523\n",
      "Lam:  0.6000000000000001\n",
      "\t[ST-Loss]: 0.008958, [IC-Loss]: 0.017083\n",
      "Lam:  0.7000000000000001\n",
      "\t[ST-Loss]: 0.004374, [IC-Loss]: 0.024158\n",
      "Lam:  0.8\n",
      "\t[ST-Loss]: 0.001675, [IC-Loss]: 0.016273\n",
      "Lam:  0.9\n",
      "\t[ST-Loss]: 0.000997, [IC-Loss]: 0.025812\n",
      "Lam:  1.0\n",
      "\t[ST-Loss]: 0.000107, [IC-Loss]: 0.056685\n"
     ]
    }
   ],
   "source": [
    "root_dir = os.path.join(\"experiments\", \"agents_%d\"%(cfg.num_agents),\"corr_%.2f\"%(cfg.corr))\n",
    "seed = 0\n",
    "\n",
    "IC = np.zeros(len(lambdas))\n",
    "ST = np.zeros(len(lambdas))\n",
    "\n",
    "for il, lam in enumerate(lambdas):  \n",
    "    model_path = os.path.join(root_dir, \"MODEL_%d_lambd_%f_prob_%.2f_corr_%.2f\"%(seed, lam, cfg.prob, cfg.corr))\n",
    "    model.load_state_dict(torch.load(model_path))\n",
    "    np.random.seed(cfg.seed)\n",
    "    print(\"Lam: \", lam)\n",
    "    with torch.no_grad():\n",
    "        val_st_loss = 0.0\n",
    "        val_ic_loss = 0.0\n",
    "        for j in range(cfg.num_val_batches):\n",
    "            P, Q = G.generate_batch_with_corr(cfg.batch_size)\n",
    "            p, q = torch_var(P), torch_var(Q)\n",
    "            r = model(p, q)\n",
    "            st_loss = compute_st(r, p, q)\n",
    "            ic_loss = compute_ic_FOSD(r, p, q, P, Q)\n",
    "            val_st_loss += st_loss.item() \n",
    "            val_ic_loss += ic_loss.item()\n",
    "        val_st_loss = val_st_loss/cfg.num_val_batches\n",
    "        val_ic_loss = val_ic_loss/cfg.num_val_batches\n",
    "        print(\"\\t[ST-Loss]: %f, [IC-Loss]: %f\"%(val_st_loss, val_ic_loss))\n",
    "        IC[il] = val_ic_loss\n",
    "        ST[il] = val_st_loss"
   ]
  },
  {
   "cell_type": "markdown",
   "metadata": {},
   "source": [
    "#### Compute the Stability and IC violations of the worker-proposing and firm-proposing DA"
   ]
  },
  {
   "cell_type": "code",
   "execution_count": 7,
   "metadata": {
    "scrolled": true
   },
   "outputs": [
    {
     "name": "stdout",
     "output_type": "stream",
     "text": [
      "Worker-Optimal:\n",
      "\t[ST-Loss]: 0.000000, [IC-Loss]: 0.048254\n",
      "Firm-Optimal\n",
      "\t[ST-Loss]: 0.000000, [IC-Loss]: 0.048254\n"
     ]
    }
   ],
   "source": [
    "print(\"Worker-Optimal:\")\n",
    "np.random.seed(cfg.seed)\n",
    "VAL_ST_LOSS = 0.0\n",
    "VAL_IC_LOSS = 0.0    \n",
    "mech = baselines.compute_gsm_batch\n",
    "for j in range(cfg.num_val_batches):\n",
    "    if cfg.corr > 0:\n",
    "        P, Q = G.generate_batch_with_corr(cfg.batch_size)\n",
    "    else:\n",
    "        P, Q = G.generate_batch(cfg.batch_size)\n",
    "    R = mech(P, Q)\n",
    "\n",
    "    ST_LOSS = STABILITY_VIOLATION_BATCH(P, Q, R) + IR_VIOLATION_BATCH(P, Q, R)\n",
    "    IC_LOSS = IC_FOSD_VIOLATION_BATCH(P, Q, R, mech, r_mult = 1)\n",
    "    VAL_ST_LOSS += ST_LOSS\n",
    "    VAL_IC_LOSS += IC_LOSS\n",
    "\n",
    "VAL_ST_LOSS = VAL_ST_LOSS/cfg.num_val_batches\n",
    "VAL_IC_LOSS = VAL_IC_LOSS/cfg.num_val_batches\n",
    "print(\"\\t[ST-Loss]: %f, [IC-Loss]: %f\"%(VAL_ST_LOSS, VAL_IC_LOSS))\n",
    "\n",
    "GS_P_ST = VAL_ST_LOSS\n",
    "GS_P_IC = VAL_IC_LOSS\n",
    "\n",
    "\n",
    "print(\"Firm-Optimal\")\n",
    "np.random.seed(cfg.seed)\n",
    "VAL_ST_LOSS = 0.0\n",
    "VAL_IC_LOSS = 0.0\n",
    "mech = baselines.compute_gsw_batch\n",
    "for j in range(cfg.num_val_batches):\n",
    "    if cfg.corr > 0:\n",
    "        P, Q = G.generate_batch_with_corr(cfg.batch_size)\n",
    "    else:\n",
    "        P, Q = G.generate_batch(cfg.batch_size)\n",
    "    R = mech(P, Q)\n",
    "\n",
    "    ST_LOSS = STABILITY_VIOLATION_BATCH(P, Q, R) + IR_VIOLATION_BATCH(P, Q, R)\n",
    "    IC_LOSS = IC_FOSD_VIOLATION_BATCH(P, Q, R, mech, r_mult = 1)\n",
    "    VAL_ST_LOSS += ST_LOSS\n",
    "    VAL_IC_LOSS += IC_LOSS\n",
    "\n",
    "VAL_ST_LOSS = VAL_ST_LOSS/cfg.num_val_batches\n",
    "VAL_IC_LOSS = VAL_IC_LOSS/cfg.num_val_batches\n",
    "print(\"\\t[ST-Loss]: %f, [IC-Loss]: %f\"%(VAL_ST_LOSS, VAL_IC_LOSS))\n",
    "\n",
    "GS_Q_ST = VAL_ST_LOSS\n",
    "GS_Q_IC = VAL_IC_LOSS\n",
    "\n",
    "\n",
    "GS_ST = min(GS_P_ST, GS_Q_ST)\n",
    "GS_IC = min(GS_P_IC, GS_Q_IC)"
   ]
  },
  {
   "cell_type": "markdown",
   "metadata": {},
   "source": [
    "#### Compute the Stability and IC violations of the RSD Mechanism\n",
    "\n",
    "Note that IC_LOSS = 0 for the RSD mechanism. You can verify this by uncommenting the lines in the code segement below."
   ]
  },
  {
   "cell_type": "code",
   "execution_count": 8,
   "metadata": {},
   "outputs": [
    {
     "name": "stdout",
     "output_type": "stream",
     "text": [
      "RSD:\n",
      "\t[ST-Loss]: 0.101079, [IC-Loss]: 0.000000\n"
     ]
    }
   ],
   "source": [
    "np.random.seed(cfg.seed)\n",
    "VAL_ST_LOSS = 0.0\n",
    "VAL_IC_LOSS = 0.0\n",
    "mech = baselines.compute_rsd_ex_ante_batch\n",
    "cfg.batch_size = 20\n",
    "for j in range(cfg.num_val_batches):\n",
    "    tic = time.time()\n",
    "    if cfg.corr > 0:\n",
    "        P, Q = G.generate_batch_with_corr(cfg.batch_size)\n",
    "    else:\n",
    "        P, Q = G.generate_batch(cfg.batch_size)\n",
    "    R = mech(P, Q)\n",
    "    ST_LOSS = STABILITY_VIOLATION_BATCH(P, Q, R) + IR_VIOLATION_BATCH(P, Q, R)\n",
    "    #IC_LOSS = IC_FOSD_VIOLATION_BATCH(P, Q, R, mech, r_mult = 1)\n",
    "    VAL_ST_LOSS += ST_LOSS\n",
    "    #VAL_IC_LOSS += IC_LOSS\n",
    "\n",
    "VAL_ST_LOSS = VAL_ST_LOSS/cfg.num_val_batches\n",
    "VAL_IC_LOSS = VAL_IC_LOSS/cfg.num_val_batches\n",
    "\n",
    "RSD_ST = VAL_ST_LOSS\n",
    "RSD_IC = VAL_IC_LOSS\n",
    "print(\"RSD:\")\n",
    "print(\"\\t[ST-Loss]: %f, [IC-Loss]: %f\"%(RSD_ST, RSD_IC))"
   ]
  },
  {
   "cell_type": "markdown",
   "metadata": {},
   "source": [
    "#### Plot the points on the frontier"
   ]
  },
  {
   "cell_type": "code",
   "execution_count": 9,
   "metadata": {},
   "outputs": [
    {
     "data": {
      "text/plain": [
       "Text(0.5, -0.05, 'Stability Violation')"
      ]
     },
     "execution_count": 9,
     "metadata": {},
     "output_type": "execute_result"
    },
    {
     "data": {
      "image/png": "[encoded data removed]",
      "text/plain": [
       "<Figure size 288x216 with 1 Axes>"
      ]
     },
     "metadata": {},
     "output_type": "display_data"
    }
   ],
   "source": [
    "f,ax = plt.subplots(1,1, facecolor='w', figsize=(4, 3))\n",
    "f.tight_layout(pad = 0.0)\n",
    "matplotlib.rcParams.update({'font.size': 15})\n",
    "\n",
    "ax.grid()\n",
    "\n",
    "\n",
    "ax.axhline(y=0, color='k')\n",
    "ax.axvline(x=0, color='k')\n",
    "ax.set_ylabel(\"SP-violation\", fontsize=16)\n",
    "\n",
    "#ax.plot(ST, IC, linewidth = 3.0, color = \"b\")\n",
    "ax.plot(ST, IC, \"ro\", markersize = 6.0)\n",
    "ax.plot(GS_ST, GS_IC, \"go\", markersize = 6.0)\n",
    "ax.plot(RSD_ST, RSD_IC, \"go\", markersize = 6.0)\n",
    "\n",
    "\n",
    "ax.plot([0, RSD_ST], [GS_IC, 0], \"g\", ls = \"dashed\")\n",
    "ax.set_xlim([-RSD_ST*0.02, RSD_ST*(1.05)])\n",
    "ax.set_ylim([-GS_IC*0.02, GS_IC*(1.05)])\n",
    "\n",
    "f.text(0.5, -0.05, 'Stability Violation', ha='center', size = 16)"
   ]
  },
  {
   "cell_type": "markdown",
   "metadata": {},
   "source": [
    "#### Compute the welfare, similarity to DA and Normalized Entropy of neural network mechanisms trained using different values of $\\lambda$"
   ]
  },
  {
   "cell_type": "code",
   "execution_count": 10,
   "metadata": {},
   "outputs": [
    {
     "name": "stdout",
     "output_type": "stream",
     "text": [
      "Lam:  0.0\n",
      "[Welfare]: 0.000360, [Sim]: 0.147628, [EN]: 0.003513\n",
      "Lam:  0.1\n",
      "[Welfare]: 0.486858, [Sim]: 0.326295, [EN]: 0.745502\n",
      "Lam:  0.2\n",
      "[Welfare]: 0.486864, [Sim]: 0.326298, [EN]: 0.745451\n",
      "Lam:  0.30000000000000004\n",
      "[Welfare]: 0.540901, [Sim]: 0.421424, [EN]: 0.694887\n",
      "Lam:  0.4\n",
      "[Welfare]: 0.558047, [Sim]: 0.466388, [EN]: 0.651362\n",
      "Lam:  0.5\n",
      "[Welfare]: 0.586749, [Sim]: 0.576952, [EN]: 0.559901\n",
      "Lam:  0.6000000000000001\n",
      "[Welfare]: 0.599639, [Sim]: 0.652033, [EN]: 0.490241\n",
      "Lam:  0.7000000000000001\n",
      "[Welfare]: 0.613857, [Sim]: 0.776505, [EN]: 0.368076\n",
      "Lam:  0.8\n",
      "[Welfare]: 0.633132, [Sim]: 0.980381, [EN]: 0.010559\n",
      "Lam:  0.9\n",
      "[Welfare]: 0.636012, [Sim]: 0.968353, [EN]: 0.006840\n",
      "Lam:  1.0\n",
      "[Welfare]: 0.638938, [Sim]: 0.950580, [EN]: 0.005597\n"
     ]
    }
   ],
   "source": [
    "WF = np.zeros(len(lambdas))\n",
    "SM = np.zeros(len(lambdas))\n",
    "EN = np.zeros(len(lambdas))\n",
    "\n",
    "def plogp(x):\n",
    "    return - x * np.log2(np.maximum(x, 1e-8))\n",
    "\n",
    "root_dir = os.path.join(\"experiments\", \"agents_%d\"%(cfg.num_agents), \"corr_%.2f\"%(cfg.corr ))\n",
    "seed = 0\n",
    "\n",
    "for il, lam in enumerate(lambdas):  \n",
    "    model_path = os.path.join(root_dir, \"MODEL_%d_lambd_%f_prob_%.2f_corr_%.2f\"%(seed, lam, cfg.prob, cfg.corr))\n",
    "    model.load_state_dict(torch.load(model_path))\n",
    "    np.random.seed(cfg.seed)\n",
    "    print(\"Lam: \", lam)\n",
    "    \n",
    "    with torch.no_grad():\n",
    "        wel = 0.0\n",
    "        sim = 0.0\n",
    "        simp = 0.0\n",
    "        simq = 0.0\n",
    "        ent = 0.0\n",
    "        for j in range(cfg.num_val_batches):\n",
    "            P, Q = G.generate_batch_with_corr(cfg.batch_size)\n",
    "            p, q = torch_var(P), torch_var(Q)\n",
    "            r = model(p, q)\n",
    "            R = r.detach().cpu().numpy()\n",
    "            wel += (P * R + Q * R).sum()/(cfg.batch_size * cfg.num_agents * 2)\n",
    "            GS_P = baselines.compute_gsm_batch(P, Q)\n",
    "            GS_Q = baselines.compute_gsw_batch(P, Q)          \n",
    "            \n",
    "            sim_P = 2*(GS_P * R).sum(-1).sum(-1) + ((1 - GS_P.sum(-1)) * (1 - R.sum(-1))).sum(-1) + ((1 - GS_P.sum(-2)) * (1 - R.sum(-2))).sum(-1)\n",
    "            sim_Q = 2*(GS_Q * R).sum(-1).sum(-1) + ((1 - GS_Q.sum(-1)) * (1 - R.sum(-1))).sum(-1) + ((1 - GS_Q.sum(-2)) * (1 - R.sum(-2))).sum(-1)\n",
    "            \n",
    "            simp += sim_P.mean()/(2*cfg.num_agents)\n",
    "            simq += sim_Q.mean()/(2*cfg.num_agents)\n",
    "            H = plogp(R).sum(-1).sum(-1) + 0.5 * plogp(1 - R.sum(-1)).sum(-1) + 0.5 * plogp(1 - R.sum(-2)).sum(-1)\n",
    "            ent += H.mean()/cfg.num_agents/-np.log2(1/(cfg.num_agents + 1))\n",
    "        \n",
    "        sim = np.maximum(simp, simq)\n",
    "        sim = sim/cfg.num_val_batches\n",
    "        wel = wel/cfg.num_val_batches\n",
    "        ent = ent/cfg.num_val_batches\n",
    "        print(\"[Welfare]: %f, [Sim]: %f, [EN]: %f\"%(wel, sim, ent))\n",
    "        WF[il] = wel\n",
    "        SM[il] = sim\n",
    "        EN[il] = ent"
   ]
  },
  {
   "cell_type": "markdown",
   "metadata": {},
   "source": [
    "#### Compute the welfare achieved by the best of work-proposing and firm-proposing DA mechanism"
   ]
  },
  {
   "cell_type": "code",
   "execution_count": 11,
   "metadata": {},
   "outputs": [
    {
     "name": "stdout",
     "output_type": "stream",
     "text": [
      "Worker-Optimal:\n",
      "\t[WF]: 0.636875\n",
      "Firm-Optimal\n",
      "\t[WF]: 0.637344\n"
     ]
    }
   ],
   "source": [
    "np.random.seed(cfg.seed)\n",
    "VAL_WF = 0.0\n",
    "print(\"Worker-Optimal:\")\n",
    "for j in range(cfg.num_val_batches):\n",
    "    P, Q = G.generate_batch_with_corr(cfg.batch_size)\n",
    "    R = baselines.compute_gsm_batch(P, Q)\n",
    "    VAL_WF += (P*R + Q*R).sum()/(cfg.batch_size * cfg.num_agents * 2)\n",
    "VAL_WF = VAL_WF/cfg.num_val_batches\n",
    "print(\"\\t[WF]: %f\"%(VAL_WF))\n",
    "DA_WF = VAL_WF\n",
    "\n",
    "print(\"Firm-Optimal\")\n",
    "VAL_WF = 0.0\n",
    "np.random.seed(cfg.seed)\n",
    "for j in range(cfg.num_val_batches):\n",
    "    P, Q = G.generate_batch_with_corr(cfg.batch_size)\n",
    "    R = baselines.compute_gsw_batch(P, Q)\n",
    "    VAL_WF += (P*R + Q*R).sum()/(cfg.batch_size * cfg.num_agents * 2)\n",
    "VAL_WF = VAL_WF/cfg.num_val_batches\n",
    "print(\"\\t[WF]: %f\"%(VAL_WF))\n",
    "\n",
    "DA_WF = max(DA_WF, VAL_WF)"
   ]
  },
  {
   "cell_type": "markdown",
   "metadata": {},
   "source": [
    "#### Compute the welfare achieved by the best of work-proposing and firm-proposing RSD mechanism"
   ]
  },
  {
   "cell_type": "code",
   "execution_count": 12,
   "metadata": {},
   "outputs": [
    {
     "name": "stdout",
     "output_type": "stream",
     "text": [
      "RSD:\n",
      "\t[WF]: 0.583640\n"
     ]
    }
   ],
   "source": [
    "np.random.seed(cfg.seed)\n",
    "VAL_WF = 0.0\n",
    "for j in range(cfg.num_val_batches):\n",
    "    P, Q = G.generate_batch_with_corr(cfg.batch_size)\n",
    "    R = baselines.compute_rsd_ex_ante_batch(P, Q)\n",
    "    VAL_WF += (P*R + Q*R).sum()/(cfg.batch_size * cfg.num_agents * 2)\n",
    "\n",
    "VAL_WF = VAL_WF/cfg.num_val_batches\n",
    "print(\"RSD:\")\n",
    "print(\"\\t[WF]: %f\"%(VAL_WF))\n",
    "    \n",
    "RSD_WF = VAL_WF"
   ]
  },
  {
   "cell_type": "markdown",
   "metadata": {},
   "source": [
    "#### Plot comparing the welfare achieved by neural network mechanisms trained using different values of $\\lambda$"
   ]
  },
  {
   "cell_type": "code",
   "execution_count": 13,
   "metadata": {},
   "outputs": [
    {
     "data": {
      "image/png": "[encoded data removed]",
      "text/plain": [
       "<Figure size 432x288 with 1 Axes>"
      ]
     },
     "metadata": {
      "needs_background": "light"
     },
     "output_type": "display_data"
    }
   ],
   "source": [
    "plt.plot(lambdas, WF, lw = 3.0, marker='x', c = \"b\", label = r\"$g^{\\theta}$\")\n",
    "plt.grid()\n",
    "plt.xlabel(\"$\\lambda$\", fontsize = 17)\n",
    "plt.xticks(fontsize = 17)\n",
    "plt.ylabel(\"Welfare per agent\")\n",
    "plt.plot([0, 1], [DA_WF, DA_WF], lw = 3.0, c = \"r\", ls = \"dashed\", label = \"DA\")\n",
    "plt.plot([0, 1], [RSD_WF, RSD_WF], lw = 3.0, c = \"g\", ls = \"dashed\", label = \"RSD\")\n",
    "plt.title(\"$p_{corr} = %.2f$\"%(cfg.corr))\n",
    "plt.ylim([min(DA_WF, RSD_WF)*0.9, max(DA_WF, RSD_WF)*1.05])\n",
    "_ = plt.legend()"
   ]
  },
  {
   "cell_type": "markdown",
   "metadata": {},
   "source": [
    "#### Plot comparing the degree of similarity to DA of neural network mechanisms trained using different values of $\\lambda$"
   ]
  },
  {
   "cell_type": "code",
   "execution_count": 14,
   "metadata": {},
   "outputs": [
    {
     "data": {
      "image/png": "[encoded data removed]",
      "text/plain": [
       "<Figure size 432x288 with 1 Axes>"
      ]
     },
     "metadata": {
      "needs_background": "light"
     },
     "output_type": "display_data"
    }
   ],
   "source": [
    "plt.plot(lambdas, SM, c = \"b\", lw = 3.0, marker='x', label = r\"$Uncorrelated$\")\n",
    "plt.grid()\n",
    "plt.xlabel(\"$\\lambda$\", fontsize = 18)\n",
    "plt.xticks(fontsize = 17)\n",
    "plt.ylabel(\"% Similarity to DA\")\n",
    "_ = plt.title(\"% similarity to DA vs $\\lambda$\")"
   ]
  },
  {
   "cell_type": "markdown",
   "metadata": {},
   "source": [
    "#### Plot comparing the normalized entropy of neural network mechanisms trained using different values of $\\lambda$"
   ]
  },
  {
   "cell_type": "code",
   "execution_count": 15,
   "metadata": {},
   "outputs": [
    {
     "data": {
      "image/png": "[encoded data removed]",
      "text/plain": [
       "<Figure size 432x288 with 1 Axes>"
      ]
     },
     "metadata": {
      "needs_background": "light"
     },
     "output_type": "display_data"
    }
   ],
   "source": [
    "plt.plot(lambdas[1:], EN[1:], c = \"b\", lw = 3.0, marker='x', label = r\"$Uncorrelated$\")\n",
    "plt.grid()\n",
    "plt.xlabel(\"$\\lambda$\", fontsize = 18)\n",
    "plt.xticks(fontsize = 17)\n",
    "plt.ylabel(\"Normalized Entropy\")\n",
    "_ = plt.title(\"Normalized Entropy vs $\\lambda$\")"
   ]
  }
 ],
 "metadata": {
  "kernelspec": {
   "display_name": "Python [conda env:.conda-pytorch_holyseas]",
   "language": "python",
   "name": "conda-env-.conda-pytorch_holyseas-py"
  },
  "language_info": {
   "codemirror_mode": {
    "name": "ipython",
    "version": 3
   },
   "file_extension": ".py",
   "mimetype": "text/x-python",
   "name": "python",
   "nbconvert_exporter": "python",
   "pygments_lexer": "ipython3",
   "version": "3.6.6"
  }
 },
 "nbformat": 4,
 "nbformat_minor": 4
}
